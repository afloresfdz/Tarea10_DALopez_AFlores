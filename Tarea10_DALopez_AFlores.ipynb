{
 "cells": [
  {
   "cell_type": "markdown",
   "metadata": {},
   "source": [
    "<img style=\"float: left; margin: 30px 15px 15px 15px;\" src=\"https://pngimage.net/wp-content/uploads/2018/06/logo-iteso-png-5.png\" width=\"300\" height=\"500\" /> \n",
    "    \n",
    "    \n",
    "### <font color='navy'> Simulación de procesos financieros. \n",
    "\n",
    "**Nombres:** Diego Alberto López Lazareno, Andrea Flores Fernández.\n",
    "\n",
    "**Fecha:** 24 de noviembre del 2021.\n",
    "\n",
    "**Expediente** : 722100, 725449.\n",
    "**Profesor:** Oscar David Jaramillo Zuluaga.\n",
    "    \n",
    "**Link Github**: https://github.com/diegolazareno/Tarea10_DALopez_AFlores\n",
    "\n",
    "# Tarea 10: Clase 24"
   ]
  },
  {
   "cell_type": "markdown",
   "metadata": {},
   "source": [
    "## Enunciado de tarea \n",
    "\n",
    "**Realizar la valuación de las opciones barrera para las acciones de Microsoft**, siguiendo los siguientes lineamientos:\n",
    "\n",
    "1. Realizar la valuación para el tipo de opción barrera 'CALL'- down-and-out, usando la suposición de rendimientos normales y usando el método del histograma. Para ambas valuaciones, comparar los resultados de la evaluación obtenida con los resultados obtenidos por la valuación Europea. Como se realizó en clase.\n",
    "2. Repetir el inciso anterior pero en esta ocasión para el caso de 'PUT'- Up-and-out.\n",
    "\n",
    "**Nota:** Analice los datos descargados y según el método ya sea `down-and-out` o `Up-and-out` defina un strike price usando la volatility smile vista en la clase de opciones europeas y basado en el spot price y el strike defina una barrera adecuada.\n",
    "\n",
    "Se habilitará un enlace en canvas para subir un cuaderno de python, con la solución.\n",
    "\n",
    "**Criterio de revisión.**\n",
    "\n",
    "> Se te calificará de acuerdo a los resultados finales que reportes, basados en tu análisis."
   ]
  },
  {
   "cell_type": "markdown",
   "metadata": {},
   "source": [
    "### Ejercicio 1\n",
    "\n",
    "> Realizar la valuación para el tipo de opción barrera 'CALL'- down-and-out, usando la suposición de rendimientos normales y usando el método del histograma. Para ambas valuaciones, comparar los resultados de la evaluación obtenida con los resultados obtenidos por la valuación Europea. Como se realizó en clase."
   ]
  },
  {
   "cell_type": "markdown",
   "metadata": {},
   "source": [
    "`Estudiante 1 : Diego`"
   ]
  },
  {
   "cell_type": "code",
   "execution_count": 1,
   "metadata": {},
   "outputs": [],
   "source": [
    "# Librerías necesarias\n",
    "import pandas as pd\n",
    "import numpy as np\n",
    "from datetime import date\n",
    "import yfinance as yf\n",
    "from scipy import stats as st\n",
    "import matplotlib.pyplot as plt\n",
    "%matplotlib inline\n",
    "import warnings\n",
    "warnings.filterwarnings(\"ignore\")\n",
    "\n",
    "# Funciones necesarias\n",
    "def options_yf(ticker : \"Ticker en formato string\"):\n",
    "    \"\"\"\n",
    "    options_yf descarga información de opciones financieras con ayuda de yfinance. Retorna:\n",
    "    *calls : un diccionario con los calls a distintas fechas de vencimiento.\n",
    "    *puts : un diccionario con los puts a distintas fechas de vencimiento.\n",
    "    \n",
    "    *ticker : es el símbolo de cotización de la acción\n",
    "    \n",
    "    \"\"\"\n",
    "    stock = yf.Ticker(ticker)\n",
    "    calls, puts = {}, {}\n",
    "    \n",
    "    def options_yf_(n):\n",
    "        nonlocal stock\n",
    "        calls[stock.options[n]] = stock.option_chain(stock.options[n])[0]\n",
    "        puts[stock.options[n]] = stock.option_chain(stock.options[n])[1]\n",
    "    \n",
    "    [options_yf_(n) for n in range(len(stock.options))]\n",
    "    \n",
    "    return calls, puts\n",
    "\n",
    "def returns(closes : \"Precios de cierre ajustados de una acción\"):\n",
    "    \"returns calcula los rendimientos logarítmicos del precio de una acción\"\n",
    "    \n",
    "    return np.log(closes / closes.shift(1)).dropna()\n",
    "\n",
    "def modeloNormal(expiry : \"Fecha de expiración del contrato\", strike : \"Precio de ejercicio\",\n",
    "                     sigma : \"Volatilidad\", rf : \"Tasa libre de riesgo\", S0 : \"Precio inicial\", option : \"Call, Put\"):\n",
    "    \"\"\"\n",
    "    modeloNormal elabora la valoración de una opción financiera a través del Modelo de los Rendimientos Normales.\n",
    "    \n",
    "    *expiry : es la fecha de expiración del contrato.\n",
    "    *strike : es el precio de ejercicio del contrato.\n",
    "    *sigma : es la volatilidad del activo subyacente.\n",
    "    *rf : es la tasa libre de riesgo (base diaria).\n",
    "    *S0 : es el precio inicial del activo subyacente.\n",
    "    *option : es el tipo de opción, Call o Put.\n",
    "    \n",
    "    \"\"\"\n",
    "    \n",
    "    today = pd.Timestamp(date.today())\n",
    "    dates = pd.date_range(start = today, end = expiry, freq = 'B')\n",
    "    ndays = len(dates)\n",
    "    nscen = 10000\n",
    "    \n",
    "    sim_ret = pd.DataFrame(sigma * np.random.randn(ndays, nscen) + rf, index = dates)\n",
    "    simulations = S0 * np.exp(sim_ret.cumsum())\n",
    "    simulations.iloc[0, :] = S0\n",
    "        \n",
    "    if option == \"Call\":\n",
    "        I = (simulations < b).cumsum(axis = 0) == 0\n",
    "        opcionEuropea = pd.DataFrame({'Prima Europea' : np.exp(-rf * ndays) * np.fmax(simulations - strike, 0).mean(axis = 1)}, \n",
    "                           index = dates)\n",
    "        opcionBarrera = pd.DataFrame({'Prima Down-And-Out' : \n",
    "                                np.exp(-rf * ndays) * (I * np.fmax(simulations - strike, 0)).mean(axis = 1)},\n",
    "                           index = dates)\n",
    "    else:\n",
    "        I = (simulations < b).cumsum(axis = 0) == 0\n",
    "        opcionEuropea = pd.DataFrame({'Prima Europea' : np.exp(-rf * ndays) * np.fmax(simulations - strike, 0).mean(axis = 1)}, \n",
    "                           index = dates)\n",
    "        opcionBarrera = pd.DataFrame({'Prima Down-And-Out' : \n",
    "                                np.exp(-rf * ndays) * (I * np.fmax(simulations - strike, 0)).mean(axis = 1)},\n",
    "                           index = dates)\n",
    "    \n",
    "    return opcionEuropea, opcionBarrera, simulations\n",
    "\n",
    "def histograma(expiry : \"Fecha de expiración del contrato\", strike : \"Precio de ejercicio\",\n",
    "                      returns : \"Rendimientos\", mu : \"Rendimiento esperado\", sigma : \"Volatilidad\", \n",
    "                      rf : \"Tasa libre de riesgo\", S0 : \"Precio inicial\", option : \"Call, Put\"):\n",
    "    \"\"\"\n",
    "    histograma elabora la valoración de una opción financiera a través del Método del Histograma.\n",
    "    \n",
    "    *expiry : es la fecha de expiración del contrato.\n",
    "    *strike : es el precio de ejercicio del contrato.\n",
    "    *returns : son los rendimientos logarítmicos de la acción.\n",
    "    *mu : es el rendimiento esperado del activo subyacente.\n",
    "    *sigma : es la volatilidad del activo subyacente.\n",
    "    *rf : es la tasa libre de riesgo (base diaria).\n",
    "    *S0 : es el precio inicial del activo subyacente.\n",
    "    *option : es el tipo de opción, Call o Put.\n",
    "    \n",
    "    \"\"\"\n",
    "    \n",
    "    today = pd.Timestamp(date.today())\n",
    "    dates = pd.date_range(start = today, end = expiry, freq = 'B')\n",
    "    ndays = len(dates)\n",
    "    nscen = 10000\n",
    "    \n",
    "    freq, values = np.histogram(returns - mu + rf, bins = 10000)\n",
    "    prob = freq / np.sum(freq)\n",
    "    ret = np.random.choice(values[1:], (ndays, nscen), p = prob)\n",
    "    sim_ret_hist = pd.DataFrame(ret, index = dates)\n",
    "    simulations = S0 * np.exp(sim_ret_hist.cumsum())\n",
    "    simulations.iloc[0, :] = S0\n",
    "    \n",
    "    if option == \"Call\":\n",
    "        I = (simulations < b).cumsum(axis = 0) == 0\n",
    "        opcionEuropea = pd.DataFrame({'Prima Europea' : np.exp(-rf * ndays) * np.fmax(simulations - strike, 0).mean(axis = 1)}, \n",
    "                           index = dates)\n",
    "        opcionBarrera = pd.DataFrame({'Prima Down-And-Out' : \n",
    "                                np.exp(-rf * ndays) * (I * np.fmax(simulations - strike, 0)).mean(axis = 1)},\n",
    "                           index = dates)\n",
    "    else:\n",
    "        I = (simulations < b).cumsum(axis = 0) == 0\n",
    "        opcionEuropea = pd.DataFrame({'Prima Europea' : np.exp(-rf * ndays) * np.fmax(simulations - strike, 0).mean(axis = 1)}, \n",
    "                           index = dates)\n",
    "        opcionBarrera = pd.DataFrame({'Prima Down-And-Out' : \n",
    "                                np.exp(-rf * ndays) * (I * np.fmax(simulations - strike, 0)).mean(axis = 1)},\n",
    "                           index = dates)\n",
    "    \n",
    "    return opcionEuropea, opcionBarrera, simulations\n",
    "\n",
    "\n",
    "def confidenceInterval(option : \"Primas de la opción\", simulations : \"Precios simulados\", method : \"Tipo de opción\"):\n",
    "    \"\"\"\n",
    "    confidenceInterval computa un intervalo de confianza para la prima de una opción (europea o barrera).\n",
    "    \n",
    "    *options : son las primas de la opción.\n",
    "    *simulations : son los precios simulados.\n",
    "    *method : es el tipo de opción.\n",
    "    \n",
    "    \"\"\"\n",
    "    \n",
    "    ci = st.norm.interval(0.99, loc = option.iloc[-1].values[0], scale = st.sem(simulations.iloc[-1]))\n",
    "    results = pd.DataFrame({\"Prima\" : option.iloc[-1].values[0], \"Límite inferior (99% confianza)\" : ci[0],\n",
    "                            \"Límite superior (99% confianza)\" : ci[1]}, index = [method])\n",
    "    return results\n"
   ]
  },
  {
   "cell_type": "code",
   "execution_count": 2,
   "metadata": {},
   "outputs": [],
   "source": [
    "# Descarga inicial de precios e información de opciones con yfinance\n",
    "ticker = \"MSFT\"\n",
    "start = \"2017-11-01\"\n",
    "prices = yf.download(ticker, start = start, end = None, progress = False)[\"Adj Close\"]\n",
    "calls, puts = options_yf(ticker)"
   ]
  },
  {
   "cell_type": "code",
   "execution_count": 3,
   "metadata": {},
   "outputs": [
    {
     "data": {
      "image/png": "[encoded data removed]",
      "text/plain": [
       "<Figure size 720x360 with 1 Axes>"
      ]
     },
     "metadata": {
      "needs_background": "light"
     },
     "output_type": "display_data"
    }
   ],
   "source": [
    "# Fecha de expiración del contrato\n",
    "fechaExpiracion = \"2022-02-18\"\n",
    "\n",
    "# Visualización de la sonrisa de volatilidad\n",
    "plt.figure(figsize = (10, 5))\n",
    "plt.title(ticker + \" Calls con Expiración : \" + fechaExpiracion)\n",
    "plt.plot(calls[fechaExpiracion][\"strike\"], calls[fechaExpiracion][\"impliedVolatility\"])\n",
    "plt.axvline(prices[-1], color = \"navy\", label = \"ATM : \" + str(round(prices[-1], 2)))\n",
    "\n",
    "idx = calls[fechaExpiracion][(calls[fechaExpiracion][\"strike\"] > prices[-1]) & \n",
    "                             (calls[fechaExpiracion][\"strike\"] < 360)][\"impliedVolatility\"].idxmin()\n",
    "strike = calls[fechaExpiracion].loc[idx, \"strike\"]\n",
    "plt.axvline(strike, color = \"darkcyan\", label = \"Strike : \" + str(strike))\n",
    "\n",
    "plt.ylabel(\"Volatilidad implícita\")\n",
    "plt.xlabel(\"Precio de ejercicio\")\n",
    "plt.legend(loc = \"best\")\n",
    "plt.grid();"
   ]
  },
  {
   "cell_type": "markdown",
   "metadata": {},
   "source": [
    "## Call Down And Out\n",
    "\n",
    "+ Call para Microsoft (MSFT)\n",
    "+ Fecha de Expiración : $2022-02-18$\n",
    "+ Precio de Ejercicio ($K$) : $\\$355$\n",
    "+ Barrera ($B$) : $\\$320$\n",
    "+ Función de Pago : $max(S_T - K, 0) \\space I(B < S_T) = max(S_T - 355, 0) \\space I(320 < S_T)$"
   ]
  },
  {
   "cell_type": "code",
   "execution_count": 4,
   "metadata": {},
   "outputs": [
    {
     "data": {
      "image/png": "[encoded data removed]",
      "text/plain": [
       "<Figure size 720x360 with 1 Axes>"
      ]
     },
     "metadata": {
      "needs_background": "light"
     },
     "output_type": "display_data"
    }
   ],
   "source": [
    "# Barrera\n",
    "b = 320\n",
    "\n",
    "# Visualización del Call Down And Out\n",
    "plt.figure(figsize = (10, 5))\n",
    "plt.title(ticker + \" Call Down And Out\")\n",
    "plt.plot(prices[prices.index > \"2020-01-01\"], label = \"Precio de cierre ajustado\")\n",
    "plt.axhline(strike, color = \"darkcyan\", label = \"Strike : \" + str(strike))\n",
    "plt.axhline(b, color = \"k\", label = \"Barrera : \" + str(b))\n",
    "plt.fill_between(prices[prices.index > \"2020-01-01\"].index, b, color = \"red\", alpha = 0.25, label = \"Desactivación\")\n",
    "plt.fill_between(prices[prices.index > \"2020-01-01\"].index, strike, strike + 100, color = \"green\", \n",
    "                 alpha = 0.25, label = \"Zona Ejercicio\")\n",
    "plt.legend(loc = \"best\")\n",
    "plt.grid();"
   ]
  },
  {
   "cell_type": "markdown",
   "metadata": {},
   "source": [
    "### Valoración por el Modelo de Rendimientos Normales"
   ]
  },
  {
   "cell_type": "code",
   "execution_count": 5,
   "metadata": {},
   "outputs": [
    {
     "data": {
      "image/png": "[encoded data removed]",
      "text/plain": [
       "<Figure size 432x288 with 1 Axes>"
      ]
     },
     "metadata": {
      "needs_background": "light"
     },
     "output_type": "display_data"
    }
   ],
   "source": [
    "msftReturns = returns(prices)\n",
    "mu = msftReturns.mean() \n",
    "sigma = msftReturns.std()\n",
    "rf = 0.0024 / 360\n",
    "\n",
    "callEuropeo, callBarrera, simulations = modeloNormal(fechaExpiracion, strike, sigma, rf, prices[-1], \"Call\")\n",
    "ax = callBarrera.plot();\n",
    "callEuropeo.plot(ax = ax);"
   ]
  },
  {
   "cell_type": "code",
   "execution_count": 6,
   "metadata": {},
   "outputs": [
    {
     "data": {
      "text/html": [
       "<div>\n",
       "<style scoped>\n",
       "    .dataframe tbody tr th:only-of-type {\n",
       "        vertical-align: middle;\n",
       "    }\n",
       "\n",
       "    .dataframe tbody tr th {\n",
       "        vertical-align: top;\n",
       "    }\n",
       "\n",
       "    .dataframe thead th {\n",
       "        text-align: right;\n",
       "    }\n",
       "</style>\n",
       "<table border=\"1\" class=\"dataframe\">\n",
       "  <thead>\n",
       "    <tr style=\"text-align: right;\">\n",
       "      <th></th>\n",
       "      <th>Prima</th>\n",
       "      <th>Límite inferior (99% confianza)</th>\n",
       "      <th>Límite superior (99% confianza)</th>\n",
       "    </tr>\n",
       "  </thead>\n",
       "  <tbody>\n",
       "    <tr>\n",
       "      <th>Opción Europea</th>\n",
       "      <td>13.869781</td>\n",
       "      <td>12.584772</td>\n",
       "      <td>15.154789</td>\n",
       "    </tr>\n",
       "  </tbody>\n",
       "</table>\n",
       "</div>"
      ],
      "text/plain": [
       "                    Prima  Límite inferior (99% confianza)  \\\n",
       "Opción Europea  13.869781                        12.584772   \n",
       "\n",
       "                Límite superior (99% confianza)  \n",
       "Opción Europea                        15.154789  "
      ]
     },
     "execution_count": 6,
     "metadata": {},
     "output_type": "execute_result"
    }
   ],
   "source": [
    "confidenceInterval(callEuropeo, simulations, \"Opción Europea\")"
   ]
  },
  {
   "cell_type": "code",
   "execution_count": 7,
   "metadata": {},
   "outputs": [
    {
     "data": {
      "text/html": [
       "<div>\n",
       "<style scoped>\n",
       "    .dataframe tbody tr th:only-of-type {\n",
       "        vertical-align: middle;\n",
       "    }\n",
       "\n",
       "    .dataframe tbody tr th {\n",
       "        vertical-align: top;\n",
       "    }\n",
       "\n",
       "    .dataframe thead th {\n",
       "        text-align: right;\n",
       "    }\n",
       "</style>\n",
       "<table border=\"1\" class=\"dataframe\">\n",
       "  <thead>\n",
       "    <tr style=\"text-align: right;\">\n",
       "      <th></th>\n",
       "      <th>Prima</th>\n",
       "      <th>Límite inferior (99% confianza)</th>\n",
       "      <th>Límite superior (99% confianza)</th>\n",
       "    </tr>\n",
       "  </thead>\n",
       "  <tbody>\n",
       "    <tr>\n",
       "      <th>Opción Barrera</th>\n",
       "      <td>11.076234</td>\n",
       "      <td>9.791226</td>\n",
       "      <td>12.361243</td>\n",
       "    </tr>\n",
       "  </tbody>\n",
       "</table>\n",
       "</div>"
      ],
      "text/plain": [
       "                    Prima  Límite inferior (99% confianza)  \\\n",
       "Opción Barrera  11.076234                         9.791226   \n",
       "\n",
       "                Límite superior (99% confianza)  \n",
       "Opción Barrera                        12.361243  "
      ]
     },
     "execution_count": 7,
     "metadata": {},
     "output_type": "execute_result"
    }
   ],
   "source": [
    "confidenceInterval(callBarrera, simulations, \"Opción Barrera\")"
   ]
  },
  {
   "cell_type": "markdown",
   "metadata": {},
   "source": [
    "### Valoración por el Método del Histograma"
   ]
  },
  {
   "cell_type": "code",
   "execution_count": 8,
   "metadata": {},
   "outputs": [
    {
     "data": {
      "image/png": "[encoded data removed]",
      "text/plain": [
       "<Figure size 432x288 with 1 Axes>"
      ]
     },
     "metadata": {
      "needs_background": "light"
     },
     "output_type": "display_data"
    }
   ],
   "source": [
    "callEuropeo, callBarrera, simulations = histograma(fechaExpiracion, strike, msftReturns, mu, sigma, rf, prices[-1], \"Call\")\n",
    "ax = callBarrera.plot();\n",
    "callEuropeo.plot(ax = ax);"
   ]
  },
  {
   "cell_type": "code",
   "execution_count": 9,
   "metadata": {},
   "outputs": [
    {
     "data": {
      "text/html": [
       "<div>\n",
       "<style scoped>\n",
       "    .dataframe tbody tr th:only-of-type {\n",
       "        vertical-align: middle;\n",
       "    }\n",
       "\n",
       "    .dataframe tbody tr th {\n",
       "        vertical-align: top;\n",
       "    }\n",
       "\n",
       "    .dataframe thead th {\n",
       "        text-align: right;\n",
       "    }\n",
       "</style>\n",
       "<table border=\"1\" class=\"dataframe\">\n",
       "  <thead>\n",
       "    <tr style=\"text-align: right;\">\n",
       "      <th></th>\n",
       "      <th>Prima</th>\n",
       "      <th>Límite inferior (99% confianza)</th>\n",
       "      <th>Límite superior (99% confianza)</th>\n",
       "    </tr>\n",
       "  </thead>\n",
       "  <tbody>\n",
       "    <tr>\n",
       "      <th>Opción Europea</th>\n",
       "      <td>14.375019</td>\n",
       "      <td>13.077621</td>\n",
       "      <td>15.672417</td>\n",
       "    </tr>\n",
       "  </tbody>\n",
       "</table>\n",
       "</div>"
      ],
      "text/plain": [
       "                    Prima  Límite inferior (99% confianza)  \\\n",
       "Opción Europea  14.375019                        13.077621   \n",
       "\n",
       "                Límite superior (99% confianza)  \n",
       "Opción Europea                        15.672417  "
      ]
     },
     "execution_count": 9,
     "metadata": {},
     "output_type": "execute_result"
    }
   ],
   "source": [
    "confidenceInterval(callEuropeo, simulations, \"Opción Europea\")"
   ]
  },
  {
   "cell_type": "code",
   "execution_count": 10,
   "metadata": {},
   "outputs": [
    {
     "data": {
      "text/html": [
       "<div>\n",
       "<style scoped>\n",
       "    .dataframe tbody tr th:only-of-type {\n",
       "        vertical-align: middle;\n",
       "    }\n",
       "\n",
       "    .dataframe tbody tr th {\n",
       "        vertical-align: top;\n",
       "    }\n",
       "\n",
       "    .dataframe thead th {\n",
       "        text-align: right;\n",
       "    }\n",
       "</style>\n",
       "<table border=\"1\" class=\"dataframe\">\n",
       "  <thead>\n",
       "    <tr style=\"text-align: right;\">\n",
       "      <th></th>\n",
       "      <th>Prima</th>\n",
       "      <th>Límite inferior (99% confianza)</th>\n",
       "      <th>Límite superior (99% confianza)</th>\n",
       "    </tr>\n",
       "  </thead>\n",
       "  <tbody>\n",
       "    <tr>\n",
       "      <th>Opción Barrera</th>\n",
       "      <td>11.717223</td>\n",
       "      <td>10.419825</td>\n",
       "      <td>13.014621</td>\n",
       "    </tr>\n",
       "  </tbody>\n",
       "</table>\n",
       "</div>"
      ],
      "text/plain": [
       "                    Prima  Límite inferior (99% confianza)  \\\n",
       "Opción Barrera  11.717223                        10.419825   \n",
       "\n",
       "                Límite superior (99% confianza)  \n",
       "Opción Barrera                        13.014621  "
      ]
     },
     "execution_count": 10,
     "metadata": {},
     "output_type": "execute_result"
    }
   ],
   "source": [
    "confidenceInterval(callBarrera, simulations, \"Opción Barrera\")"
   ]
  },
  {
   "cell_type": "markdown",
   "metadata": {},
   "source": [
    "`Estudiante 2 : Andrea`"
   ]
  },
  {
   "cell_type": "code",
   "execution_count": null,
   "metadata": {},
   "outputs": [],
   "source": []
  },
  {
   "cell_type": "markdown",
   "metadata": {},
   "source": [
    "### Ejercicio 2\n",
    "\n",
    "> Repetir el inciso anterior pero en esta ocasión para el caso de 'PUT'- Up-and-out."
   ]
  },
  {
   "cell_type": "markdown",
   "metadata": {},
   "source": [
    "`Estudiante 1 : Diego`"
   ]
  },
  {
   "cell_type": "code",
   "execution_count": null,
   "metadata": {},
   "outputs": [],
   "source": []
  },
  {
   "cell_type": "markdown",
   "metadata": {},
   "source": [
    "`Estudiante 2 : Andrea`"
   ]
  },
  {
   "cell_type": "code",
   "execution_count": null,
   "metadata": {},
   "outputs": [],
   "source": []
  }
 ],
 "metadata": {
  "kernelspec": {
   "display_name": "Python 3",
   "language": "python",
   "name": "python3"
  },
  "language_info": {
   "codemirror_mode": {
    "name": "ipython",
    "version": 3
   },
   "file_extension": ".py",
   "mimetype": "text/x-python",
   "name": "python",
   "nbconvert_exporter": "python",
   "pygments_lexer": "ipython3",
   "version": "3.7.1"
  }
 },
 "nbformat": 4,
 "nbformat_minor": 2
}
